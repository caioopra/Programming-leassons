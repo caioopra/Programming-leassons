{
 "cells": [
  {
   "attachments": {},
   "cell_type": "markdown",
   "metadata": {},
   "source": [
    "# Data Leakage\n",
    "Acontece quando dados de treino contém informação sobre o alvo, mas dados similares não estarão disponíveis na hora de fazer previsões, gerando alta performance na hora do treinamento (e até validação), mas não será bom quando estiver em produção\n",
    "<br>\n",
    "- Target leakage: predictors incluem dados que não estarão disponíveis quando fizer previsões; para evitar, variáveis atualizadas ou criadas depois do valor alvo ser descoberto deve ser excluída\n",
    "- Train-Test Contamination: dados de validação devem ser excluídos de fittings, incluindo os de pré-processamento; fica mais fácil usando pipelines"
   ]
  },
  {
   "cell_type": "code",
   "execution_count": null,
   "metadata": {},
   "outputs": [],
   "source": []
  }
 ],
 "metadata": {
  "language_info": {
   "name": "python"
  },
  "orig_nbformat": 4
 },
 "nbformat": 4,
 "nbformat_minor": 2
}

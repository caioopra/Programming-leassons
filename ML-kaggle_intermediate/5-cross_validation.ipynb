{
 "cells": [
  {
   "attachments": {},
   "cell_type": "markdown",
   "metadata": {},
   "source": [
    "# Cross-Validation\n",
    "### Melhores medições da performance do modelo\n",
    "Quanto maior o set de validação, menos aleatoriedade (noise) haverá na qulidade da mensuração do modelo, o tornando mais confiável\n",
    "- Cross Validation: roda processo de modelagem em diferentes subsets dos dados para ter diferentes medidads da qualidade do modelo (divide os dados em partes e, para cada parte (ou algumas), as usa hora como validação e hora como parte do set de treinamento) \n",
    "    - Quando usar: pequenos datasets onde gasto computacional não é grande problema (poucos minutos ou menos para rodar); maiores datasets, apenas um set de validação é suficiente (código mais rápido e pode ter dados suficientes)"
   ]
  },
  {
   "cell_type": "code",
   "execution_count": 2,
   "metadata": {},
   "outputs": [],
   "source": [
    "import pandas as pd\n",
    "\n",
    "data = pd.read_csv(\"melb_data.csv\")\n",
    "\n",
    "cols_to_use = [\"Rooms\", \"Distance\", \"Landsize\", \"BuildingArea\", \"YearBuilt\"]\n",
    "X = data[cols_to_use]\n",
    "\n",
    "y = data.Price"
   ]
  },
  {
   "cell_type": "code",
   "execution_count": 4,
   "metadata": {},
   "outputs": [],
   "source": [
    "from sklearn.ensemble import RandomForestRegressor\n",
    "from sklearn.pipeline import Pipeline\n",
    "from sklearn.impute import SimpleImputer\n",
    "\n",
    "#  pipeline com omputer pra preencher dados faltando e Random Forest\n",
    "# pode fazer sem pipeline, mas fica difícil\n",
    "\n",
    "my_pipeline = Pipeline(\n",
    "    steps=[\n",
    "        (\"preprocessor\", SimpleImputer()),\n",
    "        (\"model\", RandomForestRegressor(n_estimators=50, random_state=0)),\n",
    "    ]\n",
    ")"
   ]
  },
  {
   "cell_type": "code",
   "execution_count": 6,
   "metadata": {},
   "outputs": [
    {
     "name": "stdout",
     "output_type": "stream",
     "text": [
      "MAE: \n",
      " [301628.7893587  303164.4782723  287298.331666   236061.84754543\n",
      " 260383.45111427]\n"
     ]
    }
   ],
   "source": [
    "from sklearn.model_selection import cross_val_score\n",
    "\n",
    "# multiplica por -1 porque sklearn calcula MAE negativo\n",
    "# scilkit: quanto mais alto um número melhor\n",
    "scores = -1 * cross_val_score(my_pipeline, X, y,\n",
    "                              cv=5,  # cv = numero de folds (\"divisoes\")\n",
    "                              scoring=\"neg_mean_absolute_error\") # https://scikit-learn.org/stable/modules/model_evaluation.html\n",
    "\n",
    "print(\"MAE: \\n\", scores)"
   ]
  },
  {
   "cell_type": "code",
   "execution_count": 9,
   "metadata": {},
   "outputs": [
    {
     "name": "stdout",
     "output_type": "stream",
     "text": [
      "Média de MAE:  277707.3795913405\n"
     ]
    }
   ],
   "source": [
    "print(\"Média de MAE: \", scores.mean())"
   ]
  },
  {
   "cell_type": "code",
   "execution_count": null,
   "metadata": {},
   "outputs": [],
   "source": []
  }
 ],
 "metadata": {
  "kernelspec": {
   "display_name": "Python 3",
   "language": "python",
   "name": "python3"
  },
  "language_info": {
   "codemirror_mode": {
    "name": "ipython",
    "version": 3
   },
   "file_extension": ".py",
   "mimetype": "text/x-python",
   "name": "python",
   "nbconvert_exporter": "python",
   "pygments_lexer": "ipython3",
   "version": "3.10.0"
  },
  "orig_nbformat": 4,
  "vscode": {
   "interpreter": {
    "hash": "26de051ba29f2982a8de78e945f0abaf191376122a1563185a90213a26c5da77"
   }
  }
 },
 "nbformat": 4,
 "nbformat_minor": 2
}

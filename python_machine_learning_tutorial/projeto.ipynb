{
 "cells": [
  {
   "cell_type": "code",
   "execution_count": 2,
   "metadata": {},
   "outputs": [
    {
     "name": "stderr",
     "output_type": "stream",
     "text": [
      "C:\\Users\\caiop\\AppData\\Roaming\\Python\\Python310\\site-packages\\sklearn\\base.py:450: UserWarning: X does not have valid feature names, but DecisionTreeClassifier was fitted with feature names\n",
      "  warnings.warn(\n"
     ]
    },
    {
     "data": {
      "text/plain": [
       "array(['HipHop', 'Dance'], dtype=object)"
      ]
     },
     "execution_count": 2,
     "metadata": {},
     "output_type": "execute_result"
    }
   ],
   "source": [
    "# problema: recebe idade e gênero de pessoa e tena prever qual gênero musical gosta\n",
    "import pandas as pd\n",
    "# sklearn é pacote da lib scikit; modulo .tree\n",
    "from sklearn.tree import DecisionTreeClassifier\n",
    "\n",
    "music_data = pd.read_csv(\"music.csv\")\n",
    "\n",
    "# retirando a coluna de saída esperada (genero)\n",
    "X = music_data.drop(columns=[\"genre\"])  # retorna um novo dataset, nesse caso, de entrada\n",
    "y = music_data[\"genre\"] # retorna dataset de saída\n",
    "\n",
    "# algoritmo \"decision tree\", já implementado em sklearn => da biblioteca scikit-learn\n",
    "model = DecisionTreeClassifier()\n",
    "model.fit(X, y)  # faz treinamento do modelo (inputDataSet, outputDataSet)\n",
    "\n",
    "# pede ao modelo para fazer previsões\n",
    "# recebe array 2D (nos de dentro, passa dados para fazer previsão)\n",
    "predictions = model.predict([ [21, 1], [22, 0] ])  \n",
    "predictions\n",
    "\n"
   ]
  },
  {
   "cell_type": "code",
   "execution_count": 5,
   "metadata": {},
   "outputs": [
    {
     "data": {
      "text/plain": [
       "1.0"
      ]
     },
     "execution_count": 5,
     "metadata": {},
     "output_type": "execute_result"
    }
   ],
   "source": [
    "import pandas as pd\n",
    "from sklearn.tree import DecisionTreeClassifier\n",
    "# permite dividir set em dois (um para treino e outro de testes)\n",
    "# ideal é alocar 70/80% dos dados para treinamento e restante para teste -> calc precisão\n",
    "from sklearn.model_selection import train_test_split\n",
    "# mede precisão da previsão em relação aos valores\n",
    "from sklearn.metrics import accuracy_score\n",
    "\n",
    "music_data = pd.read_csv(\"music.csv\")\n",
    "X = music_data.drop(columns=[\"genre\"]) \n",
    "y = music_data[\"genre\"]\n",
    "\n",
    "# retorna tupla com 4 valores\n",
    "X_train, X_test, y_train, y_test = train_test_split(X, y, test_size=0.2)  # 20% do dataset para treino\n",
    "\n",
    "model = DecisionTreeClassifier()\n",
    "model.fit(X_train, y_train) \n",
    "predictions = model.predict(X_test)\n",
    "\n",
    "# (saídaEsperada, saídaDoTeste)\n",
    "# retoran valor entre 0 e 1\n",
    "score = accuracy_score(y_test, predictions) \n",
    "score"
   ]
  },
  {
   "cell_type": "code",
   "execution_count": 9,
   "metadata": {},
   "outputs": [
    {
     "name": "stderr",
     "output_type": "stream",
     "text": [
      "C:\\Users\\caiop\\AppData\\Roaming\\Python\\Python310\\site-packages\\sklearn\\base.py:450: UserWarning: X does not have valid feature names, but DecisionTreeClassifier was fitted with feature names\n",
      "  warnings.warn(\n"
     ]
    },
    {
     "data": {
      "text/plain": [
       "array(['HipHop'], dtype=object)"
      ]
     },
     "execution_count": 9,
     "metadata": {},
     "output_type": "execute_result"
    }
   ],
   "source": [
    "# modelos persistentes - salvar em um arquivo, carrega o modelo já treinado e pede para fazer as predições\n",
    "import pandas as pd\n",
    "from sklearn.tree import DecisionTreeClassifier\n",
    "# objeto com métodos para salvar e carregar modelos\n",
    "import joblib\n",
    "\n",
    "# # linhas comentadas após salvar o modelo\n",
    "# music_data = pd.read_csv(\"music.csv\")\n",
    "# X = music_data.drop(columns=[\"genre\"]) \n",
    "# y = music_data[\"genre\"]\n",
    "\n",
    "# model = DecisionTreeClassifier()\n",
    "# model.fit(X, y) \n",
    "\n",
    "# # salva o modelo (modelo, nomeDoArquivo)\n",
    "# joblib.dump(model, \"music-recommender.joblib\")\n",
    "\n",
    "model = joblib.load(\"music-recommender.joblib\")\n",
    "predictions = model.predict([[21, 1]])\n",
    "predictions"
   ]
  },
  {
   "cell_type": "code",
   "execution_count": 10,
   "metadata": {},
   "outputs": [],
   "source": [
    "import pandas as pd\n",
    "from sklearn.tree import DecisionTreeClassifier\n",
    "from sklearn import tree\n",
    "\n",
    "music_data = pd.read_csv(\"music.csv\")\n",
    "X = music_data.drop(columns=[\"genre\"])\n",
    "y = music_data['genre']\n",
    "\n",
    "model = DecisionTreeClassifier()\n",
    "model.fit(X, y)\n",
    "\n",
    "# .dot = GraphViz language\n",
    "tree.export_graphviz(\n",
    "                     model, out_file=\"music-recommender.dot\",\n",
    "                     feature_names=[\"age\", \"gender\"],   # regras para os nodos\n",
    "                     class_names=sorted(y.unique()),  # classes para os nodos\n",
    "                     label=\"all\",  # labels nos nodos\n",
    "                     rounded=True,  # canto arredondado\n",
    "                     filled=True\n",
    "                    )  # nodos/caixas com cores\n"
   ]
  }
 ],
 "metadata": {
  "interpreter": {
   "hash": "26de051ba29f2982a8de78e945f0abaf191376122a1563185a90213a26c5da77"
  },
  "kernelspec": {
   "display_name": "Python 3.10.0 64-bit",
   "language": "python",
   "name": "python3"
  },
  "language_info": {
   "codemirror_mode": {
    "name": "ipython",
    "version": 3
   },
   "file_extension": ".py",
   "mimetype": "text/x-python",
   "name": "python",
   "nbconvert_exporter": "python",
   "pygments_lexer": "ipython3",
   "version": "3.10.0"
  },
  "orig_nbformat": 4
 },
 "nbformat": 4,
 "nbformat_minor": 2
}
